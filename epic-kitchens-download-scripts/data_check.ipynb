{
 "cells": [
  {
   "cell_type": "code",
   "execution_count": null,
   "metadata": {},
   "outputs": [],
   "source": [
    "import os\n",
    "import pandas as pd\n"
   ]
  },
  {
   "cell_type": "code",
   "execution_count": null,
   "metadata": {},
   "outputs": [],
   "source": [
    "base_dir = '/home/ebarnett/epic-kitchens-slowfast/data'\n",
    "\n",
    "df_train      = pd.read_pickle(os.path.join(base_dir, 'EPIC_100_train.pkl')).reset_index()\n",
    "df_valid      = pd.read_pickle(os.path.join(base_dir, 'EPIC_100_validation.pkl')).reset_index()\n",
    "df_100_splits = pd.read_csv(os.path.join(base_dir, 'EPIC_100_splits.csv'))\n",
    "df_train['og_split'] = 'train'\n",
    "df_valid['og_split'] = 'valid'\n",
    "\n",
    "df_all = df_train.append(df_valid)\n",
    "df_all = df_all.merge(df_100_splits, how='left',  left_on='video_id', right_on='video_id')\n",
    "df_all"
   ]
  },
  {
   "cell_type": "code",
   "execution_count": null,
   "metadata": {},
   "outputs": [],
   "source": [
    "print(\"number of unique videos:\", len(df_all.video_id.unique()))\n",
    "print(\"number of unique participants:\", len(df_all.participant_id.unique()))\n"
   ]
  },
  {
   "cell_type": "code",
   "execution_count": null,
   "metadata": {},
   "outputs": [],
   "source": [
    "# Source Train\n",
    " \n",
    "def get_info(df, name= 'da_source_train'):\n",
    "    print(f\"number of unique videos in {name}:\", len(df['video_id'].loc[df[name] == True].unique()))\n",
    "    print(f\"number of unique users in {name}:\", len(df['participant_id'].loc[df[name] == True].unique()))\n",
    "    print(f\"unique users in {name}:\", df['participant_id'].loc[df[name] == True].unique())\n",
    "    print(f\"uq videos in {name}:\", df['video_id'].loc[df[name] == True].unique())\n",
    "\n",
    "get_info(df_all, 'da_source_train') \n"
   ]
  },
  {
   "cell_type": "code",
   "execution_count": null,
   "metadata": {},
   "outputs": [],
   "source": [
    "# Source Valid Train\n",
    "get_info(df_all, 'da_val_source_train') \n"
   ]
  },
  {
   "cell_type": "code",
   "execution_count": null,
   "metadata": {},
   "outputs": [],
   "source": [
    "# Source Valid Test\n",
    "\n",
    "get_info(df_all, 'da_val_source_test') \n",
    "\n"
   ]
  },
  {
   "cell_type": "code",
   "execution_count": null,
   "metadata": {},
   "outputs": [],
   "source": [
    "# Source Test\n",
    "get_info(df_all, 'da_source_test') \n"
   ]
  },
  {
   "cell_type": "code",
   "execution_count": null,
   "metadata": {},
   "outputs": [],
   "source": [
    "# Target Train\n",
    "get_info(df_all, 'da_target_train') \n"
   ]
  },
  {
   "cell_type": "code",
   "execution_count": null,
   "metadata": {},
   "outputs": [],
   "source": [
    "# Target Train Valid\n",
    "get_info(df_all, 'da_val_target_train') \n",
    "\n"
   ]
  },
  {
   "cell_type": "code",
   "execution_count": null,
   "metadata": {},
   "outputs": [],
   "source": [
    "# Target Valid Test\n",
    "\n",
    "get_info(df_all, 'da_val_target_train') \n"
   ]
  },
  {
   "cell_type": "code",
   "execution_count": null,
   "metadata": {},
   "outputs": [],
   "source": [
    "get_info(df_all, 'da_val_target_test') \n"
   ]
  },
  {
   "cell_type": "code",
   "execution_count": null,
   "metadata": {},
   "outputs": [],
   "source": [
    "# are there any not in any of these splits?\n",
    "\n",
    "df_none = df_all.loc[df_all['da_source_train']==False].loc[df_all['da_source_test']==False].loc[df_all['da_target_train']==False].loc[df_all['da_target_test']==False].loc[df_all['da_val_source_train']==False].loc[df_all['da_val_source_test']==False].loc[df_all['da_val_target_train']==False].loc[df_all['da_val_target_test']==False]\n",
    "\n",
    "name = ''\n",
    "print(f\"number of unique videos in {name}:\", len(df_none['video_id'].unique()))\n",
    "print(f\"number of unique users in {name}:\", len(df_none['participant_id'].unique()))\n",
    "print(f\"unique users in {name}:\", df_none['participant_id'].unique())\n",
    "print(f\"uq videos in {name}:\", df_none['video_id'].unique())\n",
    "\n",
    "\n"
   ]
  },
  {
   "cell_type": "code",
   "execution_count": null,
   "metadata": {},
   "outputs": [],
   "source": [
    "\n",
    "# create pseudo test-timestamps\n",
    "\n",
    "df_eval = df_all.loc[df_all['video_id'] == 'P01_01']\n",
    "df_eval.to_pickle(os.path.join(base_dir, 'EPIC_100_val.pkl'))\n"
   ]
  },
  {
   "cell_type": "code",
   "execution_count": 2,
   "metadata": {},
   "outputs": [],
   "source": [
    "import os\n",
    "from glob import glob\n",
    "import tarfile"
   ]
  },
  {
   "cell_type": "code",
   "execution_count": 4,
   "metadata": {},
   "outputs": [
    {
     "data": {
      "text/plain": [
       "['/mnt/nas_backup/ebarnett/epic-kitchens/rgb_frames/P01/P01_01.tar']"
      ]
     },
     "execution_count": 4,
     "metadata": {},
     "output_type": "execute_result"
    }
   ],
   "source": [
    "files = glob('/mnt/nas_backup/ebarnett/epic-kitchens/rgb_frames/*/*.tar')\n",
    "files"
   ]
  },
  {
   "cell_type": "code",
   "execution_count": 5,
   "metadata": {},
   "outputs": [
    {
     "name": "stdout",
     "output_type": "stream",
     "text": [
      "done: /mnt/nas_backup/ebarnett/epic-kitchens/rgb_frames/P01/P01_01.tar\n"
     ]
    }
   ],
   "source": [
    "for f in files:\n",
    "    my_tar = tarfile.open(f)    \n",
    "    my_tar.extractall(path = os.path.join(os.path.dirname(f), str(os.path.basename(f))[:-4]))\n",
    "    my_tar.close()\n",
    "    print('done:', f)"
   ]
  },
  {
   "cell_type": "code",
   "execution_count": null,
   "metadata": {},
   "outputs": [],
   "source": []
  }
 ],
 "metadata": {
  "kernelspec": {
   "display_name": "remote2_env",
   "language": "python",
   "name": "remote2_env"
  },
  "language_info": {
   "codemirror_mode": {
    "name": "ipython",
    "version": 3
   },
   "file_extension": ".py",
   "mimetype": "text/x-python",
   "name": "python",
   "nbconvert_exporter": "python",
   "pygments_lexer": "ipython3",
   "version": "3.7.9"
  }
 },
 "nbformat": 4,
 "nbformat_minor": 4
}
